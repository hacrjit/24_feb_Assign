{
 "cells": [
  {
   "cell_type": "markdown",
   "id": "367123f2-eaeb-4c21-94d9-6b91d99f0fc8",
   "metadata": {},
   "source": [
    "### <b>Question No. 1</b>"
   ]
  },
  {
   "cell_type": "markdown",
   "id": "324ba37e-6b5c-4553-ac9b-e5e881d6e9f7",
   "metadata": {},
   "source": [
    "Here are five functions of the pandas library along with their execution:\n",
    "\n",
    "1. **`read_csv()`**: This function is used to read a CSV file into a DataFrame.\n",
    "\n",
    "```python\n",
    "import pandas as pd\n",
    "\n",
    "# Read a CSV file into a DataFrame\n",
    "df = pd.read_csv('data.csv')\n",
    "print(df.head())\n",
    "```\n",
    "\n",
    "2. **`groupby()`**: This function is used to group data in a DataFrame based on one or more columns.\n",
    "\n",
    "```python\n",
    "# Grouping the data by 'Gender' and computing the average age for each gender\n",
    "avg_age_by_gender = df.groupby('Gender')['Age'].mean()\n",
    "print(avg_age_by_gender)\n",
    "```\n",
    "\n",
    "3. **`merge()`**: This function is used to merge two DataFrames based on a common column.\n",
    "\n",
    "```python\n",
    "# Merging two DataFrames on the 'ID' column\n",
    "merged_df = pd.merge(df1, df2, on='ID')\n",
    "print(merged_df.head())\n",
    "```\n",
    "\n",
    "4. **`fillna()`**: This function is used to fill missing values in a DataFrame with a specified value or method.\n",
    "\n",
    "```python\n",
    "# Filling missing values in the 'Age' column with the mean age\n",
    "mean_age = df['Age'].mean()\n",
    "df['Age'] = df['Age'].fillna(mean_age)\n",
    "print(df.head())\n",
    "```\n",
    "\n",
    "5. **`pivot_table()`**: This function creates a spreadsheet-style pivot table as a DataFrame.\n",
    "\n",
    "```python\n",
    "# Creating a pivot table to show the average age of each gender for each city\n",
    "pivot_table = df.pivot_table(index='City', columns='Gender', values='Age', aggfunc='mean')\n",
    "print(pivot_table)\n",
    "```"
   ]
  },
  {
   "cell_type": "markdown",
   "id": "9adaa4ac-d4a3-4b1c-b2b1-4b61f06b7c42",
   "metadata": {},
   "source": [
    "### <b>Question No. 2"
   ]
  },
  {
   "cell_type": "code",
   "execution_count": 1,
   "id": "681ce68b-a8cd-42f4-86e9-0c49c67c787d",
   "metadata": {},
   "outputs": [
    {
     "name": "stdout",
     "output_type": "stream",
     "text": [
      "    A   B   C\n",
      "1  10  40  70\n",
      "3  20  50  80\n",
      "5  30  60  90\n"
     ]
    }
   ],
   "source": [
    "import pandas as pd\n",
    "\n",
    "def reindex_with_increment(df):\n",
    "    # Reset the index to default (0, 1, 2, ...)\n",
    "    df = df.reset_index(drop=True)\n",
    "    # Create a new index starting from 1 and incrementing by 2\n",
    "    new_index = pd.Series(range(1, 2 * len(df), 2))\n",
    "    # Set the new index\n",
    "    df.index = new_index\n",
    "    return df\n",
    "\n",
    "# Example DataFrame\n",
    "df = pd.DataFrame({'A': [10, 20, 30], 'B': [40, 50, 60], 'C': [70, 80, 90]})\n",
    "\n",
    "# Reindex the DataFrame\n",
    "df_reindexed = reindex_with_increment(df)\n",
    "\n",
    "print(df_reindexed)"
   ]
  },
  {
   "cell_type": "markdown",
   "id": "64c5cf8b-55ab-4eea-97b3-87d46b83114a",
   "metadata": {},
   "source": [
    "### <b>Question No. 3"
   ]
  },
  {
   "cell_type": "code",
   "execution_count": 2,
   "id": "ed00bf7b-41bf-4fef-be23-d4b58708a536",
   "metadata": {},
   "outputs": [
    {
     "name": "stdout",
     "output_type": "stream",
     "text": [
      "Sum of the first three values: 60\n"
     ]
    }
   ],
   "source": [
    "import pandas as pd\n",
    "\n",
    "def calculate_sum_of_first_three_values(df):\n",
    "    sum_values = 0\n",
    "    # Iterate over the DataFrame rows\n",
    "    for index, row in df.iterrows():\n",
    "        # Add the value to the sum\n",
    "        sum_values += row['Values']\n",
    "        # Break the loop after adding the first three values\n",
    "        if index == 2:\n",
    "            break\n",
    "    # Print the sum to the console\n",
    "    print(\"Sum of the first three values:\", sum_values)\n",
    "\n",
    "# Example DataFrame\n",
    "df = pd.DataFrame({'Values': [10, 20, 30, 40, 50, 60, 70]})\n",
    "\n",
    "# Call the function with the DataFrame\n",
    "calculate_sum_of_first_three_values(df)\n"
   ]
  },
  {
   "cell_type": "markdown",
   "id": "b83cf481-c324-4334-aa90-46319d1f9741",
   "metadata": {},
   "source": [
    "### <b>Question No. 4"
   ]
  },
  {
   "cell_type": "code",
   "execution_count": 3,
   "id": "70e7d59a-73bc-4e07-9b33-d02c7d952ff3",
   "metadata": {},
   "outputs": [
    {
     "name": "stdout",
     "output_type": "stream",
     "text": [
      "                                Text  Word_Count\n",
      "0               Abhishek Kumar Singh           3\n",
      "1                        Ravi Ranjan           2\n",
      "2  Prajapati Aditya Nath Gautam Vats           5\n"
     ]
    }
   ],
   "source": [
    "import pandas as pd\n",
    "\n",
    "def count_words(text):\n",
    "    # Split the text into words using whitespace as a delimiter\n",
    "    words = text.split()\n",
    "    # Return the number of words\n",
    "    return len(words)\n",
    "\n",
    "def add_word_count_column(df):\n",
    "    # Apply the count_words function to each row in the 'Text' column\n",
    "    df['Word_Count'] = df['Text'].apply(count_words)\n",
    "    return df\n",
    "\n",
    "# Example DataFrame\n",
    "data = {'Text': ['Abhishek Kumar Singh', 'Ravi Ranjan', 'Prajapati Aditya Nath Gautam Vats']}\n",
    "df = pd.DataFrame(data)\n",
    "\n",
    "# Add the 'Word_Count' column to the DataFrame\n",
    "df = add_word_count_column(df)\n",
    "\n",
    "print(df)\n"
   ]
  },
  {
   "cell_type": "markdown",
   "id": "b96bd76a-053b-4174-ac3a-bf4284c62504",
   "metadata": {},
   "source": [
    "### <b>Question No. 5"
   ]
  },
  {
   "cell_type": "markdown",
   "id": "44781ffe-6193-4097-9fef-0623151a3851",
   "metadata": {
    "scrolled": true
   },
   "source": [
    "In Pandas, `DataFrame.size` and `DataFrame.shape` are attributes that provide different information about the DataFrame:\n",
    "\n",
    "1. **`DataFrame.size`**: This attribute returns the total number of elements in the DataFrame, which is equal to the product of the number of rows and columns. It does not include any NaN/missing values in the count.\n",
    "\n",
    "2. **`DataFrame.shape`**: This attribute returns a tuple representing the dimensions of the DataFrame. The tuple contains two elements: the number of rows and the number of columns.\n",
    "\n",
    "Here's a simple example to illustrate the difference:\n",
    "\n",
    "```python\n",
    "import pandas as pd\n",
    "\n",
    "# Create a DataFrame\n",
    "df = pd.DataFrame({'A': [1, 2, 3], 'B': [4, 5, 6]})\n",
    "\n",
    "# Print DataFrame size and shape\n",
    "print(\"DataFrame size:\", df.size)\n",
    "print(\"DataFrame shape:\", df.shape)\n",
    "```\n",
    "\n",
    "Output:\n",
    "```\n",
    "DataFrame size: 6\n",
    "DataFrame shape: (3, 2)\n",
    "```\n",
    "\n",
    "In this example, the DataFrame has 3 rows and 2 columns. Therefore, the size is 3 * 2 = 6, and the shape is (3, 2)."
   ]
  },
  {
   "cell_type": "markdown",
   "id": "7a78d929-ef02-478b-9e71-2aa3810a3b0b",
   "metadata": {},
   "source": [
    "### <b>Question No. 6"
   ]
  },
  {
   "cell_type": "markdown",
   "id": "e61befc6-0546-4bd8-8ce8-14c55a9367fe",
   "metadata": {},
   "source": [
    "To read an Excel file in Pandas, we use the `read_excel()` function."
   ]
  },
  {
   "cell_type": "markdown",
   "id": "0b4994d8-b387-41fe-a506-73795a9e77ea",
   "metadata": {},
   "source": [
    "### <b>Question No. 7"
   ]
  },
  {
   "cell_type": "code",
   "execution_count": 4,
   "id": "a7e4534e-ef96-4d0e-9d88-bedab453206f",
   "metadata": {},
   "outputs": [
    {
     "name": "stdout",
     "output_type": "stream",
     "text": [
      "                    Email      Username\n",
      "0  jalalpur.aks@gmail.com  jalalpur.aks\n",
      "1     hacrjit@outlook.com       hacrjit\n"
     ]
    }
   ],
   "source": [
    "import pandas as pd\n",
    "\n",
    "def extract_username(email):\n",
    "    # Split the email address at the '@' symbol and return the first part\n",
    "    return email.split('@')[0]\n",
    "\n",
    "def add_username_column(df):\n",
    "    # Apply the extract_username function to each row in the 'Email' column\n",
    "    df['Username'] = df['Email'].apply(extract_username)\n",
    "    return df\n",
    "\n",
    "# Example DataFrame\n",
    "data = {'Email': ['jalalpur.aks@gmail.com', 'hacrjit@outlook.com']}\n",
    "df = pd.DataFrame(data)\n",
    "\n",
    "# Add the 'Username' column to the DataFrame\n",
    "df = add_username_column(df)\n",
    "\n",
    "print(df)"
   ]
  },
  {
   "cell_type": "markdown",
   "id": "a5d31563-aa51-468f-9f2f-d1ec43b017e2",
   "metadata": {},
   "source": [
    "### <b>Question No. 8"
   ]
  },
  {
   "cell_type": "code",
   "execution_count": 5,
   "id": "00f6ec67-ac7f-4878-91af-c037961cacef",
   "metadata": {},
   "outputs": [
    {
     "name": "stdout",
     "output_type": "stream",
     "text": [
      "   A  B  C\n",
      "1  7  5  2\n",
      "3  6  8  4\n"
     ]
    }
   ],
   "source": [
    "import pandas as pd\n",
    "\n",
    "def select_rows(df):\n",
    "    # Select rows where value in column 'A' is greater than 5 and value in column 'B' is less than 10\n",
    "    selected_rows = df[(df['A'] > 5) & (df['B'] < 10)]\n",
    "    return selected_rows\n",
    "\n",
    "# Example DataFrame\n",
    "data = {'A': [3, 7, 2, 6, 8], 'B': [9, 5, 3, 8, 10], 'C': [1, 2, 3, 4, 5]}\n",
    "df = pd.DataFrame(data)\n",
    "\n",
    "# Select rows\n",
    "selected_df = select_rows(df)\n",
    "\n",
    "print(selected_df)"
   ]
  },
  {
   "cell_type": "markdown",
   "id": "f0fa39ed-16ea-4961-9750-b11f9e092369",
   "metadata": {},
   "source": [
    "### <b>Question No. 9"
   ]
  },
  {
   "cell_type": "code",
   "execution_count": 6,
   "id": "bdde7055-2e0b-4ba8-af26-52637a09a268",
   "metadata": {},
   "outputs": [
    {
     "name": "stdout",
     "output_type": "stream",
     "text": [
      "Mean: 31.8\n",
      "Median: 30.0\n",
      "Standard Deviation: 15.073154945133417\n"
     ]
    }
   ],
   "source": [
    "import pandas as pd\n",
    "\n",
    "def calculate_statistics(df):\n",
    "    # Calculate mean, median, and standard deviation of the 'Values' column\n",
    "    mean_value = df['Values'].mean()\n",
    "    median_value = df['Values'].median()\n",
    "    std_value = df['Values'].std()\n",
    "    return mean_value, median_value, std_value\n",
    "\n",
    "# Example DataFrame\n",
    "data = {'Values': [10, 28, 30, 41, 50]}\n",
    "df = pd.DataFrame(data)\n",
    "\n",
    "# Calculate statistics\n",
    "mean_value, median_value, std_value = calculate_statistics(df)\n",
    "\n",
    "print(\"Mean:\", mean_value)\n",
    "print(\"Median:\", median_value)\n",
    "print(\"Standard Deviation:\", std_value)"
   ]
  },
  {
   "cell_type": "markdown",
   "id": "36260d16-b68f-4075-8475-4cc0afc49cc0",
   "metadata": {},
   "source": [
    "### <b>Question No. 10"
   ]
  },
  {
   "cell_type": "code",
   "execution_count": 7,
   "id": "e452d137-fa0a-4e25-b28a-04f2e8187980",
   "metadata": {},
   "outputs": [
    {
     "name": "stdout",
     "output_type": "stream",
     "text": [
      "        Date  Sales  MovingAverage\n",
      "0 2022-01-01    100          100.0\n",
      "1 2022-01-02    150          125.0\n",
      "2 2022-01-03    200          150.0\n",
      "3 2022-01-04    250          175.0\n",
      "4 2022-01-05    300          200.0\n",
      "5 2022-01-06    350          225.0\n",
      "6 2022-01-07    400          250.0\n",
      "7 2022-01-08    450          300.0\n",
      "8 2022-01-09    500          350.0\n",
      "9 2022-01-10    550          400.0\n"
     ]
    }
   ],
   "source": [
    "import pandas as pd\n",
    "\n",
    "def calculate_moving_average(df):\n",
    "    # Calculate the moving average of the 'Sales' column with a window size of 7\n",
    "    df['MovingAverage'] = df['Sales'].rolling(window=7, min_periods=1).mean()\n",
    "    return df\n",
    "\n",
    "# Example DataFrame\n",
    "data = {'Date': pd.date_range(start='2022-01-01', periods=10),\n",
    "        'Sales': [100, 150, 200, 250, 300, 350, 400, 450, 500, 550]}\n",
    "df = pd.DataFrame(data)\n",
    "\n",
    "# Calculate moving average\n",
    "df = calculate_moving_average(df)\n",
    "print(df)"
   ]
  },
  {
   "cell_type": "markdown",
   "id": "04231aee-517c-452c-8f8d-2c658df7c8a3",
   "metadata": {},
   "source": [
    "### <b>Question No. 11"
   ]
  },
  {
   "cell_type": "code",
   "execution_count": 8,
   "id": "70113e42-7ffd-4beb-961c-3eaa6a31b203",
   "metadata": {},
   "outputs": [
    {
     "name": "stdout",
     "output_type": "stream",
     "text": [
      "        Date    Weekday\n",
      "0 2024-01-01     Monday\n",
      "1 2024-01-02    Tuesday\n",
      "2 2004-01-03   Saturday\n",
      "3 2024-01-04   Thursday\n",
      "4 2028-01-05  Wednesday\n"
     ]
    }
   ],
   "source": [
    "import pandas as pd\n",
    "\n",
    "def add_weekday_column(df):\n",
    "    # Convert 'Date' column to datetime format if not already\n",
    "    df['Date'] = pd.to_datetime(df['Date'])\n",
    "    # Add a new column 'Weekday' containing the weekday name\n",
    "    df['Weekday'] = df['Date'].dt.day_name()\n",
    "    return df\n",
    "\n",
    "# Example DataFrame\n",
    "data = {'Date': ['2024-01-01', '2024-01-02', '2004-01-03', '2024-01-04', '2028-01-05']}\n",
    "df = pd.DataFrame(data)\n",
    "\n",
    "# Add 'Weekday' column\n",
    "df = add_weekday_column(df)\n",
    "\n",
    "print(df)"
   ]
  },
  {
   "cell_type": "markdown",
   "id": "53785d13-f539-4868-9731-1cbe6a39626a",
   "metadata": {},
   "source": [
    "### <b>Question No. 12"
   ]
  },
  {
   "cell_type": "code",
   "execution_count": 9,
   "id": "9d56bc12-c97d-4e86-94ec-257a3280ef72",
   "metadata": {},
   "outputs": [
    {
     "name": "stdout",
     "output_type": "stream",
     "text": [
      "        Date\n",
      "1 2021-01-05\n",
      "3 2022-02-01\n"
     ]
    }
   ],
   "source": [
    "import pandas as pd\n",
    "\n",
    "def select_rows_between_dates(df):\n",
    "    # Convert 'Date' column to datetime format if not already\n",
    "    df['Date'] = pd.to_datetime(df['Date'])\n",
    "    # Select rows where 'Date' is between '2023-01-01' and '2023-01-31'\n",
    "    selected_rows = df[(df['Date'] >= '2020-01-01') & (df['Date'] <= '2023-01-31')]\n",
    "    return selected_rows\n",
    "\n",
    "# Example DataFrame\n",
    "data = {'Date': ['2002-12-31', '2021-01-05', '2019-01-15', '2022-02-01', '2023-02-15']}\n",
    "df = pd.DataFrame(data)\n",
    "\n",
    "# Select rows between '2023-01-01' and '2023-01-31'\n",
    "selected_df = select_rows_between_dates(df)\n",
    "\n",
    "print(selected_df)"
   ]
  },
  {
   "cell_type": "markdown",
   "id": "6cc724b7-bcb1-45e7-8af8-0ad0c8b2770e",
   "metadata": {},
   "source": [
    "### <b>Question No. 13"
   ]
  },
  {
   "cell_type": "markdown",
   "id": "50ad770a-f103-425d-b024-b3233979e03e",
   "metadata": {},
   "source": [
    "To use the basic functions of pandas, we need to import the pandas library. "
   ]
  }
 ],
 "metadata": {
  "kernelspec": {
   "display_name": "Python 3 (ipykernel)",
   "language": "python",
   "name": "python3"
  },
  "language_info": {
   "codemirror_mode": {
    "name": "ipython",
    "version": 3
   },
   "file_extension": ".py",
   "mimetype": "text/x-python",
   "name": "python",
   "nbconvert_exporter": "python",
   "pygments_lexer": "ipython3",
   "version": "3.10.12"
  }
 },
 "nbformat": 4,
 "nbformat_minor": 5
}
